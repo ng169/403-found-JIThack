{
 "cells": [
  {
   "cell_type": "code",
   "execution_count": 1,
   "id": "ed0fb6d1",
   "metadata": {},
   "outputs": [],
   "source": [
    "import pandas as pd\n",
    "import numpy as np"
   ]
  },
  {
   "cell_type": "code",
   "execution_count": 2,
   "id": "4e1b6450",
   "metadata": {},
   "outputs": [],
   "source": [
    "df = pd.read_csv(\"weather_data.csv\")"
   ]
  },
  {
   "cell_type": "code",
   "execution_count": 3,
   "id": "65c7c4f7",
   "metadata": {},
   "outputs": [
    {
     "data": {
      "text/html": [
       "<div>\n",
       "<style scoped>\n",
       "    .dataframe tbody tr th:only-of-type {\n",
       "        vertical-align: middle;\n",
       "    }\n",
       "\n",
       "    .dataframe tbody tr th {\n",
       "        vertical-align: top;\n",
       "    }\n",
       "\n",
       "    .dataframe thead th {\n",
       "        text-align: right;\n",
       "    }\n",
       "</style>\n",
       "<table border=\"1\" class=\"dataframe\">\n",
       "  <thead>\n",
       "    <tr style=\"text-align: right;\">\n",
       "      <th></th>\n",
       "      <th>temp</th>\n",
       "      <th>max_temp</th>\n",
       "      <th>wind_speed</th>\n",
       "      <th>cloudcover</th>\n",
       "      <th>precip</th>\n",
       "      <th>humidity</th>\n",
       "      <th>class</th>\n",
       "    </tr>\n",
       "  </thead>\n",
       "  <tbody>\n",
       "    <tr>\n",
       "      <th>0</th>\n",
       "      <td>29.90</td>\n",
       "      <td>37.00</td>\n",
       "      <td>23.00</td>\n",
       "      <td>58.60</td>\n",
       "      <td>146.00</td>\n",
       "      <td>83.86</td>\n",
       "      <td>1</td>\n",
       "    </tr>\n",
       "    <tr>\n",
       "      <th>1</th>\n",
       "      <td>93.04</td>\n",
       "      <td>82.41</td>\n",
       "      <td>63.44</td>\n",
       "      <td>102.42</td>\n",
       "      <td>192.07</td>\n",
       "      <td>129.30</td>\n",
       "      <td>1</td>\n",
       "    </tr>\n",
       "    <tr>\n",
       "      <th>2</th>\n",
       "      <td>87.13</td>\n",
       "      <td>98.82</td>\n",
       "      <td>72.29</td>\n",
       "      <td>122.12</td>\n",
       "      <td>191.80</td>\n",
       "      <td>142.25</td>\n",
       "      <td>1</td>\n",
       "    </tr>\n",
       "    <tr>\n",
       "      <th>3</th>\n",
       "      <td>92.12</td>\n",
       "      <td>72.39</td>\n",
       "      <td>73.84</td>\n",
       "      <td>96.50</td>\n",
       "      <td>196.53</td>\n",
       "      <td>150.42</td>\n",
       "      <td>1</td>\n",
       "    </tr>\n",
       "    <tr>\n",
       "      <th>4</th>\n",
       "      <td>92.64</td>\n",
       "      <td>76.03</td>\n",
       "      <td>67.13</td>\n",
       "      <td>92.61</td>\n",
       "      <td>191.76</td>\n",
       "      <td>126.61</td>\n",
       "      <td>1</td>\n",
       "    </tr>\n",
       "  </tbody>\n",
       "</table>\n",
       "</div>"
      ],
      "text/plain": [
       "    temp  max_temp  wind_speed  cloudcover  precip  humidity  class\n",
       "0  29.90     37.00       23.00       58.60  146.00     83.86      1\n",
       "1  93.04     82.41       63.44      102.42  192.07    129.30      1\n",
       "2  87.13     98.82       72.29      122.12  191.80    142.25      1\n",
       "3  92.12     72.39       73.84       96.50  196.53    150.42      1\n",
       "4  92.64     76.03       67.13       92.61  191.76    126.61      1"
      ]
     },
     "execution_count": 3,
     "metadata": {},
     "output_type": "execute_result"
    }
   ],
   "source": [
    "df.head()"
   ]
  },
  {
   "cell_type": "code",
   "execution_count": 4,
   "id": "c9f2192b",
   "metadata": {},
   "outputs": [],
   "source": [
    "df.drop(columns=\"max_temp\",inplace=True)"
   ]
  },
  {
   "cell_type": "code",
   "execution_count": 5,
   "id": "c3166f13",
   "metadata": {},
   "outputs": [
    {
     "data": {
      "text/html": [
       "<div>\n",
       "<style scoped>\n",
       "    .dataframe tbody tr th:only-of-type {\n",
       "        vertical-align: middle;\n",
       "    }\n",
       "\n",
       "    .dataframe tbody tr th {\n",
       "        vertical-align: top;\n",
       "    }\n",
       "\n",
       "    .dataframe thead th {\n",
       "        text-align: right;\n",
       "    }\n",
       "</style>\n",
       "<table border=\"1\" class=\"dataframe\">\n",
       "  <thead>\n",
       "    <tr style=\"text-align: right;\">\n",
       "      <th></th>\n",
       "      <th>temp</th>\n",
       "      <th>wind_speed</th>\n",
       "      <th>cloudcover</th>\n",
       "      <th>precip</th>\n",
       "      <th>humidity</th>\n",
       "      <th>class</th>\n",
       "    </tr>\n",
       "  </thead>\n",
       "  <tbody>\n",
       "    <tr>\n",
       "      <th>0</th>\n",
       "      <td>29.90</td>\n",
       "      <td>23.00</td>\n",
       "      <td>58.60</td>\n",
       "      <td>146.00</td>\n",
       "      <td>83.86</td>\n",
       "      <td>1</td>\n",
       "    </tr>\n",
       "    <tr>\n",
       "      <th>1</th>\n",
       "      <td>93.04</td>\n",
       "      <td>63.44</td>\n",
       "      <td>102.42</td>\n",
       "      <td>192.07</td>\n",
       "      <td>129.30</td>\n",
       "      <td>1</td>\n",
       "    </tr>\n",
       "    <tr>\n",
       "      <th>2</th>\n",
       "      <td>87.13</td>\n",
       "      <td>72.29</td>\n",
       "      <td>122.12</td>\n",
       "      <td>191.80</td>\n",
       "      <td>142.25</td>\n",
       "      <td>1</td>\n",
       "    </tr>\n",
       "    <tr>\n",
       "      <th>3</th>\n",
       "      <td>92.12</td>\n",
       "      <td>73.84</td>\n",
       "      <td>96.50</td>\n",
       "      <td>196.53</td>\n",
       "      <td>150.42</td>\n",
       "      <td>1</td>\n",
       "    </tr>\n",
       "    <tr>\n",
       "      <th>4</th>\n",
       "      <td>92.64</td>\n",
       "      <td>67.13</td>\n",
       "      <td>92.61</td>\n",
       "      <td>191.76</td>\n",
       "      <td>126.61</td>\n",
       "      <td>1</td>\n",
       "    </tr>\n",
       "  </tbody>\n",
       "</table>\n",
       "</div>"
      ],
      "text/plain": [
       "    temp  wind_speed  cloudcover  precip  humidity  class\n",
       "0  29.90       23.00       58.60  146.00     83.86      1\n",
       "1  93.04       63.44      102.42  192.07    129.30      1\n",
       "2  87.13       72.29      122.12  191.80    142.25      1\n",
       "3  92.12       73.84       96.50  196.53    150.42      1\n",
       "4  92.64       67.13       92.61  191.76    126.61      1"
      ]
     },
     "execution_count": 5,
     "metadata": {},
     "output_type": "execute_result"
    }
   ],
   "source": [
    "df.head()"
   ]
  },
  {
   "cell_type": "code",
   "execution_count": 6,
   "id": "3e69594d",
   "metadata": {},
   "outputs": [],
   "source": [
    "from sklearn.model_selection import train_test_split\n",
    "from sklearn.metrics import accuracy_score\n",
    "from sklearn.ensemble import RandomForestClassifier"
   ]
  },
  {
   "cell_type": "code",
   "execution_count": 7,
   "id": "89950cbc",
   "metadata": {},
   "outputs": [],
   "source": [
    "from sklearn.ensemble import VotingClassifier"
   ]
  },
  {
   "cell_type": "code",
   "execution_count": 8,
   "id": "04db7461",
   "metadata": {},
   "outputs": [],
   "source": [
    "df = df.to_numpy()"
   ]
  },
  {
   "cell_type": "code",
   "execution_count": 9,
   "id": "b53ca56f",
   "metadata": {},
   "outputs": [],
   "source": [
    "X = df[:,:-1]\n",
    "y = df[:,-1]"
   ]
  },
  {
   "cell_type": "code",
   "execution_count": 10,
   "id": "b0a7dc94",
   "metadata": {},
   "outputs": [],
   "source": [
    "X_train, X_test, y_train, y_test = train_test_split(X, y, test_size=0.3, random_state=42)"
   ]
  },
  {
   "cell_type": "code",
   "execution_count": 11,
   "id": "f195c9e9",
   "metadata": {},
   "outputs": [],
   "source": [
    "clf1 = RandomForestClassifier(n_estimators = 10, criterion = 'entropy', random_state = 0)"
   ]
  },
  {
   "cell_type": "code",
   "execution_count": 12,
   "id": "536f5a44",
   "metadata": {},
   "outputs": [],
   "source": [
    "clf1 = clf1.fit(X_train, y_train)"
   ]
  },
  {
   "cell_type": "code",
   "execution_count": 13,
   "id": "1a6bfbe5",
   "metadata": {},
   "outputs": [],
   "source": [
    "pred = clf1.predict(X_test)"
   ]
  },
  {
   "cell_type": "code",
   "execution_count": 14,
   "id": "e9e39f95",
   "metadata": {},
   "outputs": [],
   "source": [
    "from sklearn.metrics import accuracy_score"
   ]
  },
  {
   "cell_type": "code",
   "execution_count": 15,
   "id": "cdb4a984",
   "metadata": {},
   "outputs": [],
   "source": [
    "accuracy = accuracy_score(y_test, pred)"
   ]
  },
  {
   "cell_type": "code",
   "execution_count": 16,
   "id": "5fb7e2db",
   "metadata": {},
   "outputs": [
    {
     "data": {
      "text/plain": [
       "0.9914021164021164"
      ]
     },
     "execution_count": 16,
     "metadata": {},
     "output_type": "execute_result"
    }
   ],
   "source": [
    "accuracy"
   ]
  },
  {
   "cell_type": "code",
   "execution_count": null,
   "id": "69baf24f",
   "metadata": {},
   "outputs": [],
   "source": []
  }
 ],
 "metadata": {
  "kernelspec": {
   "display_name": "Python 3 (ipykernel)",
   "language": "python",
   "name": "python3"
  },
  "language_info": {
   "codemirror_mode": {
    "name": "ipython",
    "version": 3
   },
   "file_extension": ".py",
   "mimetype": "text/x-python",
   "name": "python",
   "nbconvert_exporter": "python",
   "pygments_lexer": "ipython3",
   "version": "3.11.0 (main, Oct 24 2022, 18:26:48) [MSC v.1933 64 bit (AMD64)]"
  },
  "vscode": {
   "interpreter": {
    "hash": "eb12fd26777115caf58cdd59753ce1b114064c9ca385271f3c13a9a4545ccffa"
   }
  }
 },
 "nbformat": 4,
 "nbformat_minor": 5
}
